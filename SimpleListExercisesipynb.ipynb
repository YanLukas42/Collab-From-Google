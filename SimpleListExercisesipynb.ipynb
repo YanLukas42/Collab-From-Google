{
  "nbformat": 4,
  "nbformat_minor": 0,
  "metadata": {
    "colab": {
      "provenance": [],
      "authorship_tag": "ABX9TyOeIzwkd00C7qrS3JMSgfBp",
      "include_colab_link": true
    },
    "kernelspec": {
      "name": "python3",
      "display_name": "Python 3"
    },
    "language_info": {
      "name": "python"
    }
  },
  "cells": [
    {
      "cell_type": "markdown",
      "metadata": {
        "id": "view-in-github",
        "colab_type": "text"
      },
      "source": [
        "<a href=\"https://colab.research.google.com/github/YanLukas42/Collab-From-Google/blob/main/SimpleListExercisesipynb.ipynb\" target=\"_parent\"><img src=\"https://colab.research.google.com/assets/colab-badge.svg\" alt=\"Open In Colab\"/></a>"
      ]
    },
    {
      "cell_type": "markdown",
      "source": [
        "Given a list, write a Python program to swap first and last element of the list.\n",
        "\n",
        "Examples:\n",
        "\n",
        "Input : [12, 35, 9, 56, 24]\n",
        "Output : [24, 35, 9, 56, 12]\n",
        "\n",
        "Input : [1, 2, 3]\n",
        "Output : [3, 2, 1]"
      ],
      "metadata": {
        "id": "eXECpYxaQKR5"
      }
    },
    {
      "cell_type": "code",
      "execution_count": null,
      "metadata": {
        "id": "Fo1KsxV8QDQI"
      },
      "outputs": [],
      "source": [
        "lista_entregue = [1, 2, 3]\n",
        "\n",
        "def trocar(listap):\n",
        "  temp = listap[0]\n",
        "  listap[0] = listap[-1]\n",
        "  listap[-1] = temp\n",
        "\n",
        "  return listap\n",
        "\n",
        "l = trocar(lista_entregue)\n",
        "print(l)"
      ]
    },
    {
      "cell_type": "markdown",
      "source": [
        "Given a list in Python and provided the positions of the elements, write a program to swap the two elements in the list.\n",
        "\n",
        "Examples:  \n",
        "\n",
        "    Input : List = [23, 65, 19, 90], pos1 = 1, pos2 = 3\n",
        "    Output : [19, 65, 23, 90]\n",
        "\n",
        "    Input : List = [1, 2, 3, 4, 5], pos1 = 2, pos2 = 5\n",
        "    Output : [1, 5, 3, 4, 2]"
      ],
      "metadata": {
        "id": "DIV1rTLyQt2B"
      }
    },
    {
      "cell_type": "code",
      "source": [
        "lis = [23, 65, 19, 90]\n",
        "pos1 = 1\n",
        "pos2 = 3\n",
        "\n",
        "\n",
        "def trocar(lista, p1, p2):\n",
        "  temp = lista[p2 - 1]\n",
        "  lista[p2 - 1] = lista[p1 - 1]\n",
        "  lista[p1 - 1] = temp\n",
        "\n",
        "  return lista\n",
        "\n",
        "l = trocar(lis, pos1, pos2)\n",
        "print(l)"
      ],
      "metadata": {
        "colab": {
          "base_uri": "https://localhost:8080/"
        },
        "id": "sjdtDi78RHIf",
        "outputId": "7511cefc-9ab8-4ac5-ba32-0fd11e16bd7b"
      },
      "execution_count": null,
      "outputs": [
        {
          "output_type": "stream",
          "name": "stdout",
          "text": [
            "[19, 65, 23, 90]\n"
          ]
        }
      ]
    },
    {
      "cell_type": "markdown",
      "source": [
        "Given two numbers, write a Python code to find the Maximum of these two numbers.\n",
        "\n",
        "Examples:\n",
        "\n",
        "    Input: a = 2, b = 4\n",
        "    Output: 4\n",
        "\n",
        "    Input: a = -1, b = -4\n",
        "    Output: -1"
      ],
      "metadata": {
        "id": "I8bNM-WoUWB_"
      }
    },
    {
      "cell_type": "code",
      "source": [
        "a, b = 2, 4\n",
        "x = a if a>b else b\n",
        "print(x)"
      ],
      "metadata": {
        "colab": {
          "base_uri": "https://localhost:8080/"
        },
        "id": "7_Fbott3UVFV",
        "outputId": "1dd1221d-d1e3-4fb5-edcc-3cc6686fbf00"
      },
      "execution_count": null,
      "outputs": [
        {
          "output_type": "stream",
          "name": "stdout",
          "text": [
            "4\n"
          ]
        }
      ]
    },
    {
      "cell_type": "markdown",
      "source": [
        "Python provides us with various ways of reversing a list. We will go through some of the many techniques on how a list in Python can be reversed.\n",
        "\n",
        "Example:\n",
        "\n",
        "Input: list = [4, 5, 6, 7, 8, 9]\n",
        "Output: [9, 8, 7, 6, 5, 4]\n",
        "Explanation: The list we are having in the output is reversed to the list we have in the input"
      ],
      "metadata": {
        "id": "7mssjLRiVHSN"
      }
    },
    {
      "cell_type": "code",
      "source": [
        "lista = [1, 2, 3, 4, 5]\n",
        "\n",
        "def inverte(list):\n",
        "\n",
        "  lis2 = []\n",
        "\n",
        "  l = len(list)\n",
        "  for i in range(1, l + 1):\n",
        "    lis2.append(list[-i])\n",
        "\n",
        "  return lis2\n",
        "\n",
        "x = inverte(lista)\n",
        "print(x)"
      ],
      "metadata": {
        "colab": {
          "base_uri": "https://localhost:8080/"
        },
        "id": "KFConRyBVIZZ",
        "outputId": "e3c0297f-a619-4813-8ff4-7588d35864ec"
      },
      "execution_count": null,
      "outputs": [
        {
          "output_type": "stream",
          "name": "stdout",
          "text": [
            "[5, 4, 3, 2, 1]\n"
          ]
        }
      ]
    },
    {
      "cell_type": "markdown",
      "source": [
        "Given a list in Python and a number x, count the number of occurrences of x in the given list.\n",
        "\n",
        "Examples:\n",
        "\n",
        "Input: lst = [15, 6, 7, 10, 12, 20, 10, 28, 10], x = 10\n",
        "Output: 3\n",
        "Explanation: 10 appears three times in given list.\n",
        "\n",
        "Input: lst = [8, 6, 8, 10, 8, 20, 10, 8, 8], x = 16\n",
        "Output: 0\n",
        "Explanation: 16 appears zero times in given list."
      ],
      "metadata": {
        "id": "elkUwnhdYSCY"
      }
    },
    {
      "cell_type": "code",
      "source": [
        "lista = [15, 6, 7, 10, 12, 20, 10, 28, 10]\n",
        "x = 10\n",
        "\n",
        "count = 0\n",
        "for i in lista:\n",
        "  if i == x:\n",
        "    count+=1\n",
        "\n",
        "print(count)"
      ],
      "metadata": {
        "colab": {
          "base_uri": "https://localhost:8080/"
        },
        "id": "sfUmS9MeYTPK",
        "outputId": "8703e9da-e91c-4b1e-f70c-b517df6c05d7"
      },
      "execution_count": null,
      "outputs": [
        {
          "output_type": "stream",
          "name": "stdout",
          "text": [
            "3\n"
          ]
        }
      ]
    },
    {
      "cell_type": "markdown",
      "source": [
        "Given a List. The task is to find the sum and average of the list. The average of the list is defined as the sum of the elements divided by the number of elements.\n",
        "\n",
        "Examples:\n",
        "\n",
        "Input: [4, 5, 1, 2, 9, 7, 10, 8]\n",
        "Output:\n",
        "sum =  46\n",
        "average =  5.75\n",
        "\n",
        "Input: [15, 9, 55, 41, 35, 20, 62, 49]\n",
        "Output:\n",
        "sum =  286\n",
        "average =  35.75"
      ],
      "metadata": {
        "id": "HWCZvBalY6ZF"
      }
    },
    {
      "cell_type": "code",
      "source": [
        "lista = [4, 5, 1, 2, 9, 7, 10, 8]\n",
        "\n",
        "sum = 0\n",
        "len = 0\n",
        "for i in lista:\n",
        "  len+=1\n",
        "  sum+=i\n",
        "\n",
        "print(f\"sum = {sum}; average = {sum/len}\")\n",
        "\n"
      ],
      "metadata": {
        "colab": {
          "base_uri": "https://localhost:8080/"
        },
        "id": "vOEh-Z_oY7o0",
        "outputId": "c3c95990-b498-41c8-dd7c-56737ac8a501"
      },
      "execution_count": null,
      "outputs": [
        {
          "output_type": "stream",
          "name": "stdout",
          "text": [
            "sum = 46; average = 5.75\n"
          ]
        }
      ]
    },
    {
      "cell_type": "markdown",
      "source": [
        "Output :\n",
        "\n",
        "The original list is : [12, 67, 98, 34]\n",
        "List Integer Summation : [3, 13, 17, 7]"
      ],
      "metadata": {
        "id": "mi3d4pemaLLC"
      }
    },
    {
      "cell_type": "code",
      "source": [
        "lista = [12, 67, 98, 34]\n",
        "lis= []\n",
        "for i in lista:\n",
        "  sum = 0\n",
        "  for s in str(i):\n",
        "    sum += int(s)\n",
        "  lis.append(sum)\n",
        "lis"
      ],
      "metadata": {
        "colab": {
          "base_uri": "https://localhost:8080/"
        },
        "id": "5izmyQ5GaMHx",
        "outputId": "aa7aaf23-9b10-4580-cc1d-765a641b62bb"
      },
      "execution_count": null,
      "outputs": [
        {
          "output_type": "execute_result",
          "data": {
            "text/plain": [
              "[3, 13, 17, 7]"
            ]
          },
          "metadata": {},
          "execution_count": 24
        }
      ]
    },
    {
      "cell_type": "markdown",
      "source": [
        "We are given a list of numbers and our task is to write a Python program to find the smallest number in given list. For the following program we can use various methods including the built-in min method, sorting the  array and returning the last element, etc.\n",
        "Example:\n",
        "\n",
        "Input : list1 = [10, 20, 4]\n",
        "Output : 4\n",
        "\n",
        "Input : list2 = [20, 10, 20, 1, 100]\n",
        "Output : 1"
      ],
      "metadata": {
        "id": "D3E6ocuEbHbC"
      }
    },
    {
      "cell_type": "code",
      "source": [
        "list2 = [20, -10, 20, 1, 100]\n",
        "\n",
        "min = list2[0]\n",
        "for i in list2:\n",
        "  if i < min:\n",
        "    min = i\n",
        "\n",
        "print(min)"
      ],
      "metadata": {
        "colab": {
          "base_uri": "https://localhost:8080/"
        },
        "id": "A_ttbC1Eb-tl",
        "outputId": "44bc8ed7-83fd-41d1-dbbb-e738737a0fda"
      },
      "execution_count": null,
      "outputs": [
        {
          "output_type": "stream",
          "name": "stdout",
          "text": [
            "-10\n"
          ]
        }
      ]
    }
  ]
}